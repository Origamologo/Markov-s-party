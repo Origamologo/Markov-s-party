{
 "cells": [
  {
   "cell_type": "code",
   "execution_count": 1,
   "metadata": {},
   "outputs": [],
   "source": [
    "import numpy as np\n",
    "import random as rm"
   ]
  },
  {
   "cell_type": "markdown",
   "metadata": {},
   "source": [
    "# 1st try of markov model"
   ]
  },
  {
   "cell_type": "code",
   "execution_count": 2,
   "metadata": {},
   "outputs": [],
   "source": [
    "# The statespace\n",
    "states = [\"beer\",\"wine\",\"rum\"]\n",
    "\n",
    "# Possible sequences of events\n",
    "transitionName = [[\"BB\",\"BW\",\"BR\"],[\"WB\",\"WW\",\"WR\"],[\"RB\",\"RW\",\"RR\"]]\n",
    "\n",
    "# Transition matrix\n",
    "transitionMatrix = [[0.5,0.2,0.3],[0.1,0.6,0.3],[0.2,0.1,0.7]]"
   ]
  },
  {
   "cell_type": "code",
   "execution_count": 3,
   "metadata": {},
   "outputs": [
    {
     "name": "stdout",
     "output_type": "stream",
     "text": [
      "Okay\n"
     ]
    }
   ],
   "source": [
    "if sum(transitionMatrix[0])+sum(transitionMatrix[1])+sum(transitionMatrix[2]) != 3:\n",
    "    print(\"Wrong transition matrix\")\n",
    "else: print(\"Okay\")"
   ]
  },
  {
   "cell_type": "code",
   "execution_count": 4,
   "metadata": {},
   "outputs": [],
   "source": [
    "def markov_forecast(hours, states, transitionName, transitionMatrix, activityToday = rm.choice(states)):\n",
    "    # Starting state\n",
    "    \n",
    "    activityList = [activityToday]\n",
    "    i = 0\n",
    "    # calculate the probability of activityList\n",
    "    prob = 1\n",
    "    while i != hours:\n",
    "        if activityToday == states[0]:\n",
    "            change = np.random.choice(transitionName[0], replace=True, p=transitionMatrix[0])\n",
    "            if change == transitionName[0][0]:\n",
    "                prob *= transitionMatrix[0][0]\n",
    "                activityList.append(states[0])\n",
    "                pass\n",
    "            elif change == transitionName[0][1]:\n",
    "                prob *= transitionMatrix[0][1]\n",
    "                activityToday = states[1]\n",
    "                activityList.append(states[1])\n",
    "                pass\n",
    "            else:\n",
    "                prob *= transitionMatrix[0][2]\n",
    "                activityToday = states[1]\n",
    "                activityList.append(states[2])\n",
    "                pass\n",
    "             \n",
    "        elif activityToday == states[1]:\n",
    "            change = np.random.choice(transitionName[1], replace=True, p=transitionMatrix[1])\n",
    "            if change == transitionName[1][0]:\n",
    "                prob *= transitionMatrix[1][0]\n",
    "                activityList.append(states[0])\n",
    "                pass\n",
    "            elif change == transitionName[1][1]:\n",
    "                prob *= transitionMatrix[1][1]\n",
    "                activityToday = states[1]\n",
    "                activityList.append(states[1])\n",
    "                pass\n",
    "            else:\n",
    "                prob *= transitionMatrix[1][2]\n",
    "                activityToday = states[2]\n",
    "                activityList.append(states[2])\n",
    "                pass\n",
    "            \n",
    "        else:\n",
    "            change = np.random.choice(transitionName[2], replace=True, p=transitionMatrix[2])\n",
    "            if change == transitionName[2][0]:\n",
    "                prob *= transitionMatrix[2][0]\n",
    "                activityList.append(states[0])\n",
    "                pass\n",
    "            elif change == transitionName[2][1]:\n",
    "                prob *= transitionMatrix[2][1]\n",
    "                activityToday = states[1]\n",
    "                activityList.append(states[1])\n",
    "                pass\n",
    "            else:\n",
    "                prob *= transitionMatrix[2][2]\n",
    "                activityToday = states[2]\n",
    "                activityList.append(states[2])\n",
    "                pass\n",
    "        \n",
    "        i += 1\n",
    "\n",
    "    return activityToday, activityList, hours, prob\n",
    "    "
   ]
  },
  {
   "cell_type": "code",
   "execution_count": 5,
   "metadata": {},
   "outputs": [],
   "source": [
    "def show_forecast(hours, states, transitionName, transitionMatrix, activityToday = rm.choice(states)):\n",
    "    forecast = markov_forecast(hours, states, transitionName, transitionMatrix)\n",
    "    print(\"Start state: \" + forecast[0])\n",
    "    print(\"Possible states: \" + str(forecast[1]))\n",
    "    print(\"End state after \"+ str(forecast[2]) + \" hours: \" + forecast[0])\n",
    "    print(\"Probability of the possible sequence of states is: \" + str(forecast[3]*100) + \"%\")"
   ]
  },
  {
   "cell_type": "code",
   "execution_count": 6,
   "metadata": {},
   "outputs": [
    {
     "name": "stdout",
     "output_type": "stream",
     "text": [
      "Start state: rum\n",
      "Possible states: ['wine', 'wine', 'beer', 'wine', 'rum', 'rum', 'wine', 'rum', 'beer', 'rum', 'rum']\n",
      "End state after 10 hours: rum\n",
      "Probability of the possible sequence of states is: 0.0022226399999999997%\n"
     ]
    }
   ],
   "source": [
    "show_forecast(10, states, transitionName, transitionMatrix)"
   ]
  },
  {
   "cell_type": "code",
   "execution_count": 7,
   "metadata": {},
   "outputs": [],
   "source": [
    "def markov_probability(hours, states, transitionName, transitionMatrix, start = rm.choice(states), end = rm.choice(states)):\n",
    "    activityList = []\n",
    "    count = 0\n",
    "    for i in range(100000):\n",
    "        activityList.append(markov_forecast(hours, states, transitionName, transitionMatrix, activityToday = rm.choice(states))[1])\n",
    "    for choice in activityList:\n",
    "        if choice[0] == start and choice[-1] == end:\n",
    "            count += 1\n",
    "    percentage = (count/100000) * 100\n",
    "    return print(f\"The probability of starting with {start} and ending with {end} during {hours} hours is \" + str(percentage) + \"%\")"
   ]
  },
  {
   "cell_type": "code",
   "execution_count": 8,
   "metadata": {},
   "outputs": [
    {
     "name": "stdout",
     "output_type": "stream",
     "text": [
      "The probability of starting with wine and ending with wine during 10 hours is 7.609000000000001%\n"
     ]
    }
   ],
   "source": [
    "markov_probability(10, states, transitionName, transitionMatrix, start = \"wine\")"
   ]
  }
 ],
 "metadata": {
  "interpreter": {
   "hash": "a12e2a4323b2f78fc80bc9af7b1a03df0527f4eb569d45f0586a1ac4c8c01671"
  },
  "kernelspec": {
   "display_name": "Python 3.9.7 ('py39')",
   "language": "python",
   "name": "python3"
  },
  "language_info": {
   "codemirror_mode": {
    "name": "ipython",
    "version": 3
   },
   "file_extension": ".py",
   "mimetype": "text/x-python",
   "name": "python",
   "nbconvert_exporter": "python",
   "pygments_lexer": "ipython3",
   "version": "3.9.7"
  },
  "orig_nbformat": 4
 },
 "nbformat": 4,
 "nbformat_minor": 2
}
